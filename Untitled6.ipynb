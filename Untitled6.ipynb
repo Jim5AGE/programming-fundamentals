{
 "cells": [
  {
   "cell_type": "code",
   "execution_count": 65,
   "metadata": {},
   "outputs": [],
   "source": [
    "def count_vowels(word):\n",
    "    vowel_num = 0\n",
    "    for item in word:\n",
    "        if item.lower() in 'aeiou':\n",
    "            vowel_num += 1\n",
    "    return vowel_num"
   ]
  },
  {
   "cell_type": "code",
   "execution_count": 66,
   "metadata": {},
   "outputs": [],
   "source": [
    "def count_vowels_list (word_list):\n",
    "    result_dict = {}\n",
    "    for current_word in word_list:\n",
    "        print(current_word, count_vowels(current_word))\n",
    "        result_dict.update ({current_word: count_vowels(current_word)})\n",
    "    return result_dict\n"
   ]
  },
  {
   "cell_type": "code",
   "execution_count": 67,
   "metadata": {},
   "outputs": [
    {
     "name": "stdout",
     "output_type": "stream",
     "text": [
      "apple 2\n",
      "krk 0\n"
     ]
    },
    {
     "data": {
      "text/plain": [
       "{'apple': 2, 'krk': 0}"
      ]
     },
     "execution_count": 67,
     "metadata": {},
     "output_type": "execute_result"
    }
   ],
   "source": [
    "count_vowels_list(['apple','krk'])\n",
    "\n"
   ]
  },
  {
   "cell_type": "code",
   "execution_count": 79,
   "metadata": {},
   "outputs": [
    {
     "ename": "SyntaxError",
     "evalue": "invalid syntax (<ipython-input-79-da06e16a277a>, line 4)",
     "output_type": "error",
     "traceback": [
      "\u001b[1;36m  File \u001b[1;32m\"<ipython-input-79-da06e16a277a>\"\u001b[1;36m, line \u001b[1;32m4\u001b[0m\n\u001b[1;33m    for word in some_string\u001b[0m\n\u001b[1;37m                           ^\u001b[0m\n\u001b[1;31mSyntaxError\u001b[0m\u001b[1;31m:\u001b[0m invalid syntax\n"
     ]
    }
   ],
   "source": [
    "def string_upper_lower (some_string):\n",
    "    lowercount = 0\n",
    "    uppercount = 0\n",
    "    for word in some_string\n",
    "    if some_string.islower():\n",
    "        lowercount+= 1\n",
    "    elif item.isupper():\n",
    "        uppercount+= 1\n",
    "        format_string String: {}, uppercount: {}, lowercount: {}"
   ]
  },
  {
   "cell_type": "code",
   "execution_count": 80,
   "metadata": {},
   "outputs": [
    {
     "ename": "SyntaxError",
     "evalue": "EOL while scanning string literal (<ipython-input-80-abb9bccfae8a>, line 4)",
     "output_type": "error",
     "traceback": [
      "\u001b[1;36m  File \u001b[1;32m\"<ipython-input-80-abb9bccfae8a>\"\u001b[1;36m, line \u001b[1;32m4\u001b[0m\n\u001b[1;33m    format_string = 'Lunch cost: {}, Cash {}:, number of vouchers pcs{}:\u001b[0m\n\u001b[1;37m                                                                        ^\u001b[0m\n\u001b[1;31mSyntaxError\u001b[0m\u001b[1;31m:\u001b[0m EOL while scanning string literal\n"
     ]
    }
   ],
   "source": [
    "def meal_vouchers (lunch_cost, meal_vouchers_value):\n",
    "    meal_vouchers_amt = lunch_cost // meal_vouchers_value\n",
    "    cash_amt = lunch % meal_voucher_value\n",
    "    format_string = 'Lunch cost: {}, Cash: {}, number of vouchers pcs: {}\n",
    "    lunch_cost, cash_amt, meal_vouchers_amt, meal_vouchers_amt\n",
    "    print(format_string)"
   ]
  },
  {
   "cell_type": "code",
   "execution_count": null,
   "metadata": {},
   "outputs": [],
   "source": []
  }
 ],
 "metadata": {
  "kernelspec": {
   "display_name": "Python 3",
   "language": "python",
   "name": "python3"
  },
  "language_info": {
   "codemirror_mode": {
    "name": "ipython",
    "version": 3
   },
   "file_extension": ".py",
   "mimetype": "text/x-python",
   "name": "python",
   "nbconvert_exporter": "python",
   "pygments_lexer": "ipython3",
   "version": "3.7.0"
  }
 },
 "nbformat": 4,
 "nbformat_minor": 2
}
