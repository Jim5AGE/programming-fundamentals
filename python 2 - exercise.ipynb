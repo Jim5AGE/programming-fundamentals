{
 "cells": [
  {
   "cell_type": "markdown",
   "metadata": {},
   "source": [
    "# W5 - Python conditions and loops assignment"
   ]
  },
  {
   "cell_type": "markdown",
   "metadata": {},
   "source": [
    "# 1. Using for loop, create nested list from dictionary, see example\n",
    "```python\n",
    "fruits = {'banana':3,'apple':2, 'mango':1, 'kiwi':5}\n",
    "fruits_list = [['banana', 'banana', 'banana'], ['apple', 'apple'], ['mango'], ['kiwi', 'kiwi', 'kiwi', 'kiwi', 'kiwi']]\n",
    "```"
   ]
  },
  {
   "cell_type": "code",
   "execution_count": 20,
   "metadata": {},
   "outputs": [
    {
     "name": "stdout",
     "output_type": "stream",
     "text": [
      "['catscatscats', 'dogsdogs', 'zebra', 'pythonpythonpythonpythonpython']\n"
     ]
    }
   ],
   "source": [
    "animals = {'cats':3,'dogs':2, 'zebra':1, 'python':5}\n",
    "list_1 = list(animals.values())\n",
    "list_2 = list(animals.keys())\n",
    "list_1_2 = []                        \n",
    "for i in range(0, 4):\n",
    "    list_1_2.append(list_2[i]*list_1[i]) \n",
    "    [' {0} '.format(elem) for elem in list_1_2]\n",
    "print(list_1_2)"
   ]
  },
  {
   "cell_type": "markdown",
   "metadata": {},
   "source": [
    "# 2. Select the shortest element from the list\n",
    "```python\n",
    "fruits = ['banana','apple', 'mango', 'kiwi']\n",
    "shortest_fruit = 'kiwi'\n",
    "```"
   ]
  },
  {
   "cell_type": "code",
   "execution_count": 33,
   "metadata": {},
   "outputs": [
    {
     "name": "stdout",
     "output_type": "stream",
     "text": [
      "zebra\n"
     ]
    }
   ],
   "source": [
    "list_1_2 = ['catscatscats', 'dogsdogs', 'zebra', 'pythonpythonpythonpythonpython']                        \n",
    "\n",
    "print (min(list_1_2, key=len))  "
   ]
  },
  {
   "cell_type": "markdown",
   "metadata": {},
   "source": [
    "# 3. Using loops and conditions, count occurrence of numbers, letters and other symbols in the string\n",
    "Example\n",
    "```python\n",
    "'''What a to do to die today at a 1/4 or 2 to 2. \n",
    "A terrible difficult thing to say but a harder thing still to do. \n",
    "The dragon will come at the beat of the drum with a rat-tat-tat-tat-tat-tattoo \n",
    "at a 1/4 or 2 to 2 today, at a 1/4 or 2 to 2.'''\n",
    "Number occurence: 12\n",
    "Letter occurence: 158\n",
    "Other symbols: 66\n",
    "```"
   ]
  },
  {
   "cell_type": "code",
   "execution_count": 79,
   "metadata": {},
   "outputs": [
    {
     "name": "stdout",
     "output_type": "stream",
     "text": [
      "The number of spaces in stringDragon is 53\n",
      "The frequency of number 1 in stringDragon is 3\n",
      "The frequency of number 2 in stringDragon is 6\n",
      "The frequency of number 3 in stringDragon is 0\n",
      "The frequency of number 4 in stringDragon is 3\n",
      "The frequency of letter a in stringDragon is 23\n"
     ]
    }
   ],
   "source": [
    "stringDragon = '''What a to do to die today at a 1/4 or 2 to 2. \n",
    "A terrible difficult thing to say but a harder thing still to do. \n",
    "The dragon will come at the beat of the drum with a rat-tat-tat-tat-tat-tattoo \n",
    "at a 1/4 or 2 to 2 today, at a 1/4 or 2\n",
    "to 2.'''\n",
    "print('The number of spaces in stringDragon is {}'.format(stringDragon.count(' ')))\n",
    "print('The frequency of number 1 in stringDragon is {}'.format(stringDragon.count('1')))\n",
    "print('The frequency of number 2 in stringDragon is {}'.format(stringDragon.count('2')))\n",
    "print('The frequency of number 3 in stringDragon is {}'.format(stringDragon.count('3')))  \n",
    "print('The frequency of number 4 in stringDragon is {}'.format(stringDragon.count('4')))\n",
    "print('The frequency of letter a in stringDragon is {}'.format(stringDragon.count('a')))"
   ]
  },
  {
   "cell_type": "markdown",
   "metadata": {},
   "source": [
    "# 4. Calculate dog's age in human years using [this article](https://pets.webmd.com/dogs/how-to-calculate-your-dogs-age)\n",
    "*Note: for simplicity, use values for medium dogs*"
   ]
  },
  {
   "cell_type": "code",
   "execution_count": 82,
   "metadata": {},
   "outputs": [
    {
     "ename": "SyntaxError",
     "evalue": "invalid syntax (<ipython-input-82-995bc25e2b27>, line 2)",
     "output_type": "error",
     "traceback": [
      "\u001b[1;36m  File \u001b[1;32m\"<ipython-input-82-995bc25e2b27>\"\u001b[1;36m, line \u001b[1;32m2\u001b[0m\n\u001b[1;33m    input int\u001b[0m\n\u001b[1;37m            ^\u001b[0m\n\u001b[1;31mSyntaxError\u001b[0m\u001b[1;31m:\u001b[0m invalid syntax\n"
     ]
    }
   ],
   "source": [
    "DogDict: {'1':15,'2':24, '3':28, '4':32, '5':36, '6':42, '7':47, '8':51, '9':56, '10':60, '11':65, '12': 69, '13': 74, '14': 78, '15': 83, '16':87}\n",
    "input int         "
   ]
  },
  {
   "cell_type": "markdown",
   "metadata": {},
   "source": [
    "# 5. Count the number of even and odd numbers from a series of numbers.\n",
    "```python\n",
    "seq = [1,44,30,15,2,18]\n",
    "```\n",
    "Odd numbers: 2\n",
    "Even numbers: 4"
   ]
  },
  {
   "cell_type": "code",
   "execution_count": null,
   "metadata": {},
   "outputs": [],
   "source": [
    "seq = [1,44,30,15,2,18]\n",
    "for i in seq %"
   ]
  },
  {
   "cell_type": "markdown",
   "metadata": {},
   "source": [
    "# 6. Using loops, print following pattern\n",
    "```\n",
    "*\n",
    "**\n",
    "***\n",
    "****\n",
    "```"
   ]
  },
  {
   "cell_type": "code",
   "execution_count": null,
   "metadata": {},
   "outputs": [],
   "source": []
  },
  {
   "cell_type": "markdown",
   "metadata": {},
   "source": [
    "# 7. Using list comprehensions, transform all vowels within the string to upper case\n",
    "\n",
    "example `python -> pYthOn`"
   ]
  },
  {
   "cell_type": "code",
   "execution_count": null,
   "metadata": {},
   "outputs": [],
   "source": []
  },
  {
   "cell_type": "markdown",
   "metadata": {},
   "source": [
    "# 8. Print position number of the letter\n",
    "1. Ask user to type letter (just one)\n",
    "2. Print position of the letter in the alphabet\n",
    "\n",
    "Example\n",
    "```\n",
    "Type letter: B\n",
    "Letter B position is 2.\n",
    "```"
   ]
  },
  {
   "cell_type": "code",
   "execution_count": null,
   "metadata": {},
   "outputs": [],
   "source": []
  },
  {
   "cell_type": "markdown",
   "metadata": {},
   "source": [
    "# 9. Find the median of three values (do not used median function)\n",
    "Ask user to input 3 values\n",
    "Example\n",
    "```\n",
    "Type number:5\n",
    "Type number:12\n",
    "Type number:6\n",
    "\n",
    "Median value is 5.\n",
    "```\n"
   ]
  },
  {
   "cell_type": "code",
   "execution_count": null,
   "metadata": {},
   "outputs": [],
   "source": []
  },
  {
   "cell_type": "markdown",
   "metadata": {},
   "source": [
    "# 10. Using `break` and `continue` statements, print numbers\n",
    "1. Ask user for their favourite number \n",
    "2. If youser chose number 13, ask user for another number\n",
    "3. Do not print number 13\n",
    "4. Finish printing after user's favourite number"
   ]
  },
  {
   "cell_type": "code",
   "execution_count": null,
   "metadata": {},
   "outputs": [],
   "source": []
  },
  {
   "cell_type": "markdown",
   "metadata": {},
   "source": [
    "# BONUS: Using nested loops, print first letter of your name:\n",
    "\n",
    "```\n",
    "  ***                                                                   \n",
    " *   *                                                                  \n",
    " *   *                                                                  \n",
    " *****                                                                  \n",
    " *   *                                                                  \n",
    " *   *                                                                  \n",
    " *   *\n",
    "```"
   ]
  },
  {
   "cell_type": "code",
   "execution_count": null,
   "metadata": {},
   "outputs": [],
   "source": []
  }
 ],
 "metadata": {
  "kernelspec": {
   "display_name": "Python 3",
   "language": "python",
   "name": "python3"
  },
  "language_info": {
   "codemirror_mode": {
    "name": "ipython",
    "version": 3
   },
   "file_extension": ".py",
   "mimetype": "text/x-python",
   "name": "python",
   "nbconvert_exporter": "python",
   "pygments_lexer": "ipython3",
   "version": "3.7.0"
  }
 },
 "nbformat": 4,
 "nbformat_minor": 2
}
