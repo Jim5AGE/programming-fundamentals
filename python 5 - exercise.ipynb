{
 "cells": [
  {
   "cell_type": "markdown",
   "metadata": {},
   "source": [
    "# W8 - Python files and modules"
   ]
  },
  {
   "cell_type": "markdown",
   "metadata": {},
   "source": [
    "# 1. Write function to read first n lines of a file"
   ]
  },
  {
   "cell_type": "code",
   "execution_count": 5,
   "metadata": {},
   "outputs": [
    {
     "name": "stdout",
     "output_type": "stream",
     "text": [
      "The Zen of Python\n",
      "\n",
      "Beautiful is better than ugly.\n",
      "\n",
      "Explicit is better than implicit.\n",
      "\n",
      "Simple is better than complex.\n",
      "\n",
      "Complex is better than complicated.\n",
      "\n",
      "Flat is better than nested.\n",
      "\n"
     ]
    }
   ],
   "source": [
    "def file_read_from_head(fname, nlines):\n",
    "        from itertools import islice\n",
    "        with open(fname) as f:\n",
    "                for line in islice(f, nlines):\n",
    "                        print(line)\n",
    "file_read_from_head('zen.txt',6)"
   ]
  },
  {
   "cell_type": "markdown",
   "metadata": {},
   "source": [
    "# 2. Create script that will count vowels in string\n",
    "Example\n",
    "```shell\n",
    "$ python find_vowels.py 'hello world'\n",
    "hello world contains 3 vowels\n",
    "```"
   ]
  },
  {
   "cell_type": "code",
   "execution_count": 6,
   "metadata": {},
   "outputs": [
    {
     "name": "stdout",
     "output_type": "stream",
     "text": [
      "Number of vowels are:\n",
      "3\n"
     ]
    }
   ],
   "source": [
    "from find_vowels import *\n",
    "find_vowels ('hello world')"
   ]
  },
  {
   "cell_type": "markdown",
   "metadata": {},
   "source": [
    "# 3. Write function to count number of lines in a file\n",
    "Example\n",
    "```python\n",
    ">>>count_lines('myfile.txt')\n",
    "File has 12 lines\n",
    "```"
   ]
  },
  {
   "cell_type": "code",
   "execution_count": 7,
   "metadata": {},
   "outputs": [
    {
     "name": "stdout",
     "output_type": "stream",
     "text": [
      "5\n"
     ]
    }
   ],
   "source": [
    "my_file  = open(\"myfile.txt\")\n",
    "count = len((my_file).readlines(  ))\n",
    "print(count)\n"
   ]
  },
  {
   "cell_type": "markdown",
   "metadata": {},
   "source": [
    "# 4. Write function to count occurrence of given word in file\n",
    "Example\n",
    "```python\n",
    ">>>count_occurence('myfile.txt', 'apple')\n",
    "Searched term apple appeared 10 times\n",
    "```"
   ]
  },
  {
   "cell_type": "code",
   "execution_count": 44,
   "metadata": {},
   "outputs": [
    {
     "name": "stdout",
     "output_type": "stream",
     "text": [
      "Searched term apple appeared 3 times\n"
     ]
    }
   ],
   "source": [
    "\n",
    "def count_occurence(filename, word):    \n",
    "    my_file  = open(filename)\n",
    "    file_text = my_file.read ( ) \n",
    "    occurence=0\n",
    "    for i in file_text.split(\" \") :\n",
    "        if(i==word):\n",
    "            occurence=occurence+1\n",
    "       \n",
    "    print(\"Searched term %s appeared %i times\" % (word, occurence))\n",
    "count_occurence('myfile.txt', 'apple')"
   ]
  },
  {
   "cell_type": "markdown",
   "metadata": {},
   "source": [
    "# 5. Write function to copy the contents of a file to another file\n",
    "\n",
    "```python\n",
    ">>>copy file('myfile.txt', 'myfile2.txt')\n",
    "```"
   ]
  },
  {
   "cell_type": "code",
   "execution_count": 48,
   "metadata": {},
   "outputs": [],
   "source": [
    "with open(\"myfile.txt\") as f:\n",
    "    with open(\"myfile2.txt\", \"w\") as f1:\n",
    "        for line in f:\n",
    "            f1.write(line)"
   ]
  },
  {
   "cell_type": "markdown",
   "metadata": {},
   "source": [
    "# 6. Write function to write nested list to file, each list on separate line\n",
    "Example data `my_list = [['a', 'b', 'c'], [1,2,3]]`"
   ]
  },
  {
   "cell_type": "code",
   "execution_count": 63,
   "metadata": {},
   "outputs": [
    {
     "ename": "SyntaxError",
     "evalue": "can't use starred expression here (<ipython-input-63-6ddb8d39e435>, line 3)",
     "output_type": "error",
     "traceback": [
      "\u001b[1;36m  File \u001b[1;32m\"<ipython-input-63-6ddb8d39e435>\"\u001b[1;36m, line \u001b[1;32m3\u001b[0m\n\u001b[1;33m    print_list = *s\u001b[0m\n\u001b[1;37m                ^\u001b[0m\n\u001b[1;31mSyntaxError\u001b[0m\u001b[1;31m:\u001b[0m can't use starred expression here\n"
     ]
    }
   ],
   "source": [
    "my_list = [['a', 'b', 'c'], [1,2,3]]\n",
    "for s in my_list:\n",
    "    print_list = *s\n",
    "    f.write(print_list) "
   ]
  },
  {
   "cell_type": "markdown",
   "metadata": {},
   "source": [
    "# 7. Write function to read  random line from a file"
   ]
  },
  {
   "cell_type": "code",
   "execution_count": 64,
   "metadata": {},
   "outputs": [
    {
     "name": "stdout",
     "output_type": "stream",
     "text": [
      "Although practicality beats purity.\n"
     ]
    }
   ],
   "source": [
    "import random\n",
    "def random_line(fname):\n",
    "    lines = open(fname).read().splitlines()\n",
    "    return random.choice(lines)\n",
    "print(random_line('zen.txt'))"
   ]
  },
  {
   "cell_type": "markdown",
   "metadata": {},
   "source": [
    "# 8. Write function to read nth, n-1 and n+1 lines of file\n",
    "Example\n",
    "```python\n",
    ">>>read_specific_lines('myfile.txt', 10)\n",
    "```\n",
    "```\n",
    "Errors should never pass silently.\n",
    "Unless explicitly silenced.\n",
    "In the face of ambiguity, refuse the temptation to guess.\n",
    "```"
   ]
  },
  {
   "cell_type": "code",
   "execution_count": 67,
   "metadata": {},
   "outputs": [
    {
     "ename": "TypeError",
     "evalue": "nth_line() missing 1 required positional argument: 'nlines'",
     "output_type": "error",
     "traceback": [
      "\u001b[1;31m---------------------------------------------------------------------------\u001b[0m",
      "\u001b[1;31mTypeError\u001b[0m                                 Traceback (most recent call last)",
      "\u001b[1;32m<ipython-input-67-552a24fa8d66>\u001b[0m in \u001b[0;36m<module>\u001b[1;34m()\u001b[0m\n\u001b[0;32m      2\u001b[0m     \u001b[0mlines\u001b[0m \u001b[1;33m=\u001b[0m \u001b[0mopen\u001b[0m\u001b[1;33m(\u001b[0m\u001b[0mfname\u001b[0m\u001b[1;33m)\u001b[0m\u001b[1;33m.\u001b[0m\u001b[0mread\u001b[0m\u001b[1;33m(\u001b[0m\u001b[1;33m)\u001b[0m\u001b[1;33m.\u001b[0m\u001b[0msplitlines\u001b[0m\u001b[1;33m(\u001b[0m\u001b[1;33m)\u001b[0m\u001b[1;33m\u001b[0m\u001b[0m\n\u001b[0;32m      3\u001b[0m     \u001b[1;32mreturn\u001b[0m \u001b[0mnlines\u001b[0m\u001b[1;33m,\u001b[0m \u001b[0mnlines\u001b[0m \u001b[1;33m+\u001b[0m\u001b[1;36m1\u001b[0m \u001b[1;32mand\u001b[0m \u001b[0mnlines\u001b[0m \u001b[1;33m-\u001b[0m\u001b[1;36m1\u001b[0m\u001b[1;33m\u001b[0m\u001b[0m\n\u001b[1;32m----> 4\u001b[1;33m \u001b[0mprint\u001b[0m\u001b[1;33m(\u001b[0m\u001b[0mnth_line\u001b[0m\u001b[1;33m(\u001b[0m\u001b[1;34m'zen.txt'\u001b[0m\u001b[1;33m)\u001b[0m\u001b[1;33m,\u001b[0m\u001b[1;36m1\u001b[0m\u001b[1;33m)\u001b[0m\u001b[1;33m\u001b[0m\u001b[0m\n\u001b[0m",
      "\u001b[1;31mTypeError\u001b[0m: nth_line() missing 1 required positional argument: 'nlines'"
     ]
    }
   ],
   "source": [
    "def nth_line(fname, nlines):\n",
    "    lines = open(fname).read().splitlines()\n",
    "    return nlines, nlines +1 and nlines -1\n",
    "print(nth_line('zen.txt'),1)"
   ]
  },
  {
   "cell_type": "markdown",
   "metadata": {},
   "source": [
    "# 9. Write function to read file and find the longest word\n",
    "Example\n",
    "```python\n",
    ">>>find_longest_word('myfile.txt')\n",
    "supercalifragilisticexpialidocious\n",
    "```"
   ]
  },
  {
   "cell_type": "code",
   "execution_count": null,
   "metadata": {},
   "outputs": [],
   "source": []
  },
  {
   "cell_type": "markdown",
   "metadata": {},
   "source": [
    "# 10. Write function to concatenate 2 files together and store them as new file\n",
    "```\n",
    ">>>concatenate_files('myfile1.txt', 'myfile2.txt', 'myfile_new.txt')\n",
    "```"
   ]
  },
  {
   "cell_type": "code",
   "execution_count": null,
   "metadata": {},
   "outputs": [],
   "source": []
  },
  {
   "cell_type": "markdown",
   "metadata": {},
   "source": [
    "# BONUS: Write function to read file and print only words containing letters 'p', 'y', 't', 'o' or 'n' and make these letters uppercase\n",
    "Example\n",
    "```python\n",
    ">>>print_selected_words('myfile.txt')\n",
    "lOve\n",
    "simPliciTY\n",
    "PaTieNce\n",
    "```"
   ]
  },
  {
   "cell_type": "code",
   "execution_count": null,
   "metadata": {},
   "outputs": [],
   "source": []
  }
 ],
 "metadata": {
  "kernelspec": {
   "display_name": "Python 3",
   "language": "python",
   "name": "python3"
  },
  "language_info": {
   "codemirror_mode": {
    "name": "ipython",
    "version": 3
   },
   "file_extension": ".py",
   "mimetype": "text/x-python",
   "name": "python",
   "nbconvert_exporter": "python",
   "pygments_lexer": "ipython3",
   "version": "3.7.0"
  }
 },
 "nbformat": 4,
 "nbformat_minor": 2
}
